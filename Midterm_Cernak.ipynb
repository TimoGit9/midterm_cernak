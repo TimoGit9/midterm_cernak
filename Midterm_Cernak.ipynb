{
 "cells": [
  {
   "cell_type": "code",
   "execution_count": 1,
   "id": "6bb4c16a-febd-46a9-a675-bbd9eafce31e",
   "metadata": {},
   "outputs": [],
   "source": [
    "import pandas as pd\n",
    "import seaborn as sns\n",
    "import math\n",
    "import matplotlib.pyplot as plt\n",
    "import scipy.stats as stats\n",
    "import numpy as np\n",
    "import datetime\n",
    "import zipfile\n",
    "%matplotlib inline"
   ]
  },
  {
   "cell_type": "code",
   "execution_count": null,
   "id": "05b5e444-7e97-4605-bf6a-4e8830329b61",
   "metadata": {},
   "outputs": [],
   "source": [
    "DAL = pd.read_csv(\".\\DAL.csv\")\n",
    "KEY = pd.read_csv(\".\\KEY.csv\")\n",
    "NKE = pd.read_csv(\".\\NKE.csv\")\n",
    "UNH = pd.read_csv(\".\\UNH.csv\")\n",
    "ticker_list = [DAL,KEY,NKE,UNH]"
   ]
  },
  {
   "cell_type": "code",
   "execution_count": null,
   "id": "2e1c907d-3973-465a-a51f-0d6547e58c46",
   "metadata": {},
   "outputs": [],
   "source": []
  }
 ],
 "metadata": {
  "kernelspec": {
   "display_name": "Python 3 (ipykernel)",
   "language": "python",
   "name": "python3"
  },
  "language_info": {
   "codemirror_mode": {
    "name": "ipython",
    "version": 3
   },
   "file_extension": ".py",
   "mimetype": "text/x-python",
   "name": "python",
   "nbconvert_exporter": "python",
   "pygments_lexer": "ipython3",
   "version": "3.12.4"
  }
 },
 "nbformat": 4,
 "nbformat_minor": 5
}
